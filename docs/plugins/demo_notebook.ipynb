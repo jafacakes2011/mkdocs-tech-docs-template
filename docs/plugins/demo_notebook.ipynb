{
 "cells": [
  {
   "attachments": {},
   "cell_type": "markdown",
   "metadata": {},
   "source": [
    "# Demo Jupyter \n",
    "\n",
    "Uses the following plugins and customisation:\n",
    "\n",
    "- [Jupyter Notebook](https://jupyter.org/) is the original web application for creating and sharing computational documents. It supports over 40 programming languages including Python and R. \n",
    "- [mknotebooks](https://github.com/greenape/mknotebooks) is a plugin for MkDocs enabling you to include Jupyter notebooks directly in your project documentation."
   ]
  },
  {
   "cell_type": "code",
   "execution_count": 1,
   "metadata": {},
   "outputs": [
    {
     "name": "stdout",
     "output_type": "stream",
     "text": [
      "2\n"
     ]
    }
   ],
   "source": [
    "print(1+1)"
   ]
  }
 ],
 "metadata": {
  "kernelspec": {
   "display_name": "venv",
   "language": "python",
   "name": "python3"
  },
  "language_info": {
   "codemirror_mode": {
    "name": "ipython",
    "version": 3
   },
   "file_extension": ".py",
   "mimetype": "text/x-python",
   "name": "python",
   "nbconvert_exporter": "python",
   "pygments_lexer": "ipython3",
   "version": "3.10.4"
  },
  "orig_nbformat": 4,
  "vscode": {
   "interpreter": {
    "hash": "6300dc932f586dcfc7a66f987c7373a89395559a9a3ea258a82dbf5bc819dbd3"
   }
  }
 },
 "nbformat": 4,
 "nbformat_minor": 2
}
